{
 "cells": [
  {
   "cell_type": "markdown",
   "metadata": {
    "deletable": true,
    "editable": true
   },
   "source": [
    "# Publications markdown generator for academicpages\n",
    "\n",
    "Takes a TSV of publications with metadata and converts them for use with [academicpages.github.io](academicpages.github.io). This is an interactive Jupyter notebook ([see more info here](http://jupyter-notebook-beginner-guide.readthedocs.io/en/latest/what_is_jupyter.html)). The core python code is also in `publications.py`. Run either from the `markdown_generator` folder after replacing `publications.tsv` with one containing your data.\n",
    "\n",
    "TODO: Make this work with BibTex and other databases of citations, rather than Stuart's non-standard TSV format and citation style.\n"
   ]
  },
  {
   "cell_type": "markdown",
   "metadata": {},
   "source": [
    "## Data format\n",
    "\n",
    "The TSV needs to have the following columns: pub_date, title, venue, excerpt, citation, site_url, and paper_url, with a header at the top. \n",
    "\n",
    "- `excerpt` and `paper_url` can be blank, but the others must have values. \n",
    "- `pub_date` must be formatted as YYYY-MM-DD.\n",
    "- `url_slug` will be the descriptive part of the .md file and the permalink URL for the page about the paper. The .md file will be `YYYY-MM-DD-[url_slug].md` and the permalink will be `https://[yourdomain]/publications/YYYY-MM-DD-[url_slug]`\n",
    "\n",
    "This is how the raw file looks (it doesn't look pretty, use a spreadsheet or other program to edit and create)."
   ]
  },
  {
   "cell_type": "code",
   "execution_count": 1,
   "metadata": {
    "collapsed": false
   },
   "outputs": [
    {
     "name": "stdout",
     "output_type": "stream",
     "text": [
      "pub_date\ttitle\tvenue\texcerpt\tcitation\turl_slug\tpaper_url\tslides_url\n",
      "2025-08\tConveying gender through speech: insights from trans men.\tInterspeech\t\"Focusing on the understudied population of trans men, we present one of the first studies on style shift in trans speakers, considering the phonetic features of trans men's speech in different contexts, and their own beliefs about vocal cues to gender perception.\"\t\"Alice Ross, Cliodhna Hughes, Eddie L. Ungless and Catherine Lai. (2025). 'Conveying gender through speech: insights from trans men.' <i>Interspeech 2025</i>, 674-678.\"\tconveying-gender\thttps://www.isca-archive.org/interspeech_2025/ross25_interspeech.html\t\n",
      "2024-12\tBeyond the binary: Limitations and possibilities of gender-related speech technology research.\tIEEE SLT\t\"This paper presents a review of 107 research papers relating to speech and sex or gender in ISCA Interspeech publications between 2013 and 2023. We note the scarcity of work on this topic and find that terminology, particularly the word gender, is used in ways that are underspecified and often out of step with the prevailing view in social sciences that gender is socially constructed and is a spectrum as opposed to a binary category.\"\t\"Ariadna Sanchez, Alice Ross, and Nina Markl (2024). 'Beyond the binary: Limitations and possibilities of gender-related speech technology research.' <i>IEEE Spoken Language Technology Workshop 2024</i>, 526-532.\"\tbeyond-binary-speech-technology\thttps://ieeexplore.ieee.org/abstract/document/10832234\t\n",
      "2024-06\tIs there an uncanny valley for speech? Investigating listeners' evaluations of realistic TTS voices.\tSpeech Prosody\t\"In this paper, we aim to describe the relationship between synthesised voices' perceived human-likeness and pleasantness and seek evidence of auditory uncanny valley effects (UVE) in listeners' evaluations.\"\t\"Alice Ross, Martin Corley and Catherine Lai. (2024). 'Is there an uncanny valley for speech? Investigating listeners' evaluations of realistic TTS voices.' <i>Speech Prosody 2024</i>, 1115-1119.\"\tuncanny-valley-realistic-tts\thttps://www.isca-archive.org/speechprosody_2024/ross24_speechprosody.htm\t\n"
     ]
    }
   ],
   "source": [
    "!type publications.tsv"
   ]
  },
  {
   "cell_type": "markdown",
   "metadata": {},
   "source": [
    "## Import pandas\n",
    "\n",
    "We are using the very handy pandas library for dataframes."
   ]
  },
  {
   "cell_type": "code",
   "execution_count": 2,
   "metadata": {
    "collapsed": true,
    "deletable": true,
    "editable": true
   },
   "outputs": [],
   "source": [
    "import pandas as pd"
   ]
  },
  {
   "cell_type": "markdown",
   "metadata": {},
   "source": [
    "## Import TSV\n",
    "\n",
    "Pandas makes this easy with the read_csv function. We are using a TSV, so we specify the separator as a tab, or `\\t`.\n",
    "\n",
    "I found it important to put this data in a tab-separated values format, because there are a lot of commas in this kind of data and comma-separated values can get messed up. However, you can modify the import statement, as pandas also has read_excel(), read_json(), and others."
   ]
  },
  {
   "cell_type": "code",
   "execution_count": 3,
   "metadata": {
    "collapsed": false,
    "deletable": true,
    "editable": true
   },
   "outputs": [
    {
     "data": {
      "text/html": [
       "<div>\n",
       "<style scoped>\n",
       "    .dataframe tbody tr th:only-of-type {\n",
       "        vertical-align: middle;\n",
       "    }\n",
       "\n",
       "    .dataframe tbody tr th {\n",
       "        vertical-align: top;\n",
       "    }\n",
       "\n",
       "    .dataframe thead th {\n",
       "        text-align: right;\n",
       "    }\n",
       "</style>\n",
       "<table border=\"1\" class=\"dataframe\">\n",
       "  <thead>\n",
       "    <tr style=\"text-align: right;\">\n",
       "      <th></th>\n",
       "      <th>pub_date</th>\n",
       "      <th>title</th>\n",
       "      <th>venue</th>\n",
       "      <th>excerpt</th>\n",
       "      <th>citation</th>\n",
       "      <th>url_slug</th>\n",
       "      <th>paper_url</th>\n",
       "      <th>slides_url</th>\n",
       "    </tr>\n",
       "  </thead>\n",
       "  <tbody>\n",
       "    <tr>\n",
       "      <th>0</th>\n",
       "      <td>2025-08</td>\n",
       "      <td>Conveying gender through speech: insights from...</td>\n",
       "      <td>Interspeech</td>\n",
       "      <td>Focusing on the understudied population of tra...</td>\n",
       "      <td>Alice Ross, Cliodhna Hughes, Eddie L. Ungless ...</td>\n",
       "      <td>conveying-gender</td>\n",
       "      <td>https://www.isca-archive.org/interspeech_2025/...</td>\n",
       "      <td>NaN</td>\n",
       "    </tr>\n",
       "    <tr>\n",
       "      <th>1</th>\n",
       "      <td>2024-12</td>\n",
       "      <td>Beyond the binary: Limitations and possibiliti...</td>\n",
       "      <td>IEEE SLT</td>\n",
       "      <td>This paper presents a review of 107 research p...</td>\n",
       "      <td>Ariadna Sanchez, Alice Ross, and Nina Markl (2...</td>\n",
       "      <td>beyond-binary-speech-technology</td>\n",
       "      <td>https://ieeexplore.ieee.org/abstract/document/...</td>\n",
       "      <td>NaN</td>\n",
       "    </tr>\n",
       "    <tr>\n",
       "      <th>2</th>\n",
       "      <td>2024-06</td>\n",
       "      <td>Is there an uncanny valley for speech? Investi...</td>\n",
       "      <td>Speech Prosody</td>\n",
       "      <td>In this paper, we aim to describe the relation...</td>\n",
       "      <td>Alice Ross, Martin Corley and Catherine Lai. (...</td>\n",
       "      <td>uncanny-valley-realistic-tts</td>\n",
       "      <td>https://www.isca-archive.org/speechprosody_202...</td>\n",
       "      <td>NaN</td>\n",
       "    </tr>\n",
       "  </tbody>\n",
       "</table>\n",
       "</div>"
      ],
      "text/plain": [
       "  pub_date                                              title           venue  \\\n",
       "0  2025-08  Conveying gender through speech: insights from...     Interspeech   \n",
       "1  2024-12  Beyond the binary: Limitations and possibiliti...        IEEE SLT   \n",
       "2  2024-06  Is there an uncanny valley for speech? Investi...  Speech Prosody   \n",
       "\n",
       "                                             excerpt  \\\n",
       "0  Focusing on the understudied population of tra...   \n",
       "1  This paper presents a review of 107 research p...   \n",
       "2  In this paper, we aim to describe the relation...   \n",
       "\n",
       "                                            citation  \\\n",
       "0  Alice Ross, Cliodhna Hughes, Eddie L. Ungless ...   \n",
       "1  Ariadna Sanchez, Alice Ross, and Nina Markl (2...   \n",
       "2  Alice Ross, Martin Corley and Catherine Lai. (...   \n",
       "\n",
       "                          url_slug  \\\n",
       "0                 conveying-gender   \n",
       "1  beyond-binary-speech-technology   \n",
       "2     uncanny-valley-realistic-tts   \n",
       "\n",
       "                                           paper_url  slides_url  \n",
       "0  https://www.isca-archive.org/interspeech_2025/...         NaN  \n",
       "1  https://ieeexplore.ieee.org/abstract/document/...         NaN  \n",
       "2  https://www.isca-archive.org/speechprosody_202...         NaN  "
      ]
     },
     "execution_count": 3,
     "metadata": {},
     "output_type": "execute_result"
    }
   ],
   "source": [
    "publications = pd.read_csv(\"publications.tsv\", sep=\"\\t\", header=0)\n",
    "publications\n"
   ]
  },
  {
   "cell_type": "markdown",
   "metadata": {},
   "source": [
    "## Escape special characters\n",
    "\n",
    "YAML is very picky about how it takes a valid string, so we are replacing single and double quotes (and ampersands) with their HTML encoded equivilents. This makes them look not so readable in raw format, but they are parsed and rendered nicely."
   ]
  },
  {
   "cell_type": "code",
   "execution_count": 4,
   "metadata": {
    "collapsed": true,
    "deletable": true,
    "editable": true
   },
   "outputs": [],
   "source": [
    "html_escape_table = {\n",
    "    \"&\": \"&amp;\",\n",
    "    '\"': \"&quot;\",\n",
    "    \"'\": \"&apos;\"\n",
    "    }\n",
    "\n",
    "def html_escape(text):\n",
    "    \"\"\"Produce entities within text.\"\"\"\n",
    "    return \"\".join(html_escape_table.get(c,c) for c in text)"
   ]
  },
  {
   "cell_type": "markdown",
   "metadata": {},
   "source": [
    "## Creating the markdown files\n",
    "\n",
    "This is where the heavy lifting is done. This loops through all the rows in the TSV dataframe, then starts to concatentate a big string (```md```) that contains the markdown for each type. It does the YAML metadata first, then does the description for the individual page."
   ]
  },
  {
   "cell_type": "code",
   "execution_count": 5,
   "metadata": {
    "collapsed": false,
    "deletable": true,
    "editable": true
   },
   "outputs": [],
   "source": [
    "import os\n",
    "for row, item in publications.iterrows():\n",
    "    \n",
    "    md_filename = str(item.pub_date) + \"-\" + item.url_slug + \".md\"\n",
    "    html_filename = str(item.pub_date) + \"-\" + item.url_slug\n",
    "    year = item.pub_date[:4]\n",
    "    \n",
    "    ## YAML variables\n",
    "    \n",
    "    md = \"---\\ntitle: \\\"\"   + item.title + '\"\\n'\n",
    "    \n",
    "    md += \"\"\"collection: publications\"\"\"\n",
    "    \n",
    "    md += \"\"\"\\npermalink: /publication/\"\"\" + html_filename\n",
    "    \n",
    "    if len(str(item.excerpt)) > 5:\n",
    "        md += \"\\nexcerpt: '\" + html_escape(item.excerpt) + \"'\"\n",
    "    \n",
    "    md += \"\\ndate: \" + str(item.pub_date) \n",
    "    \n",
    "    md += \"\\nvenue: '\" + html_escape(item.venue) + \"'\"\n",
    "    \n",
    "    if len(str(item.slides_url)) > 5:\n",
    "        md += \"\\nslidesurl: '\" + item.slides_url + \"'\"\n",
    "\n",
    "    if len(str(item.paper_url)) > 5:\n",
    "        md += \"\\npaperurl: '\" + item.paper_url + \"'\"\n",
    "    \n",
    "    md += \"\\ncitation: '\" + html_escape(item.citation) + \"'\"\n",
    "    \n",
    "    md += \"\\n---\"\n",
    "    \n",
    "    ## Markdown description for individual page\n",
    "        \n",
    "    if len(str(item.excerpt)) > 5:\n",
    "        md += \"\\n\" + html_escape(item.excerpt) + \"\\n\"\n",
    "\n",
    "    if len(str(item.slides_url)) > 5:\n",
    "        md += \"\\n[Download slides here](\" + item.slides_url + \")\\n\" \n",
    "\n",
    "    if len(str(item.paper_url)) > 5:\n",
    "        md += \"\\n[Download paper here](\" + item.paper_url + \")\\n\" \n",
    "        \n",
    "    md += \"\\nRecommended citation: \" + item.citation\n",
    "    \n",
    "    md_filename = os.path.basename(md_filename)\n",
    "       \n",
    "    with open(\"../_publications/\" + md_filename, 'w') as f:\n",
    "        f.write(md)"
   ]
  },
  {
   "cell_type": "markdown",
   "metadata": {},
   "source": [
    "These files are in the publications directory, one directory below where we're working from."
   ]
  },
  {
   "cell_type": "code",
   "execution_count": 8,
   "metadata": {
    "collapsed": false,
    "deletable": true,
    "editable": true
   },
   "outputs": [
    {
     "name": "stdout",
     "output_type": "stream",
     "text": [
      " Volume in drive C is OS\n",
      " Volume Serial Number is 8A52-B2D5\n",
      "\n",
      " Directory of c:\\Users\\alice\\Documents\\GitHub\\alice-ross.github.io\\_publications\n",
      "\n",
      "29/10/2025  11:57    <DIR>          .\n",
      "29/10/2025  12:18    <DIR>          ..\n",
      "29/10/2025  11:11               959 2009-10-01-paper-title-number-1.md\n",
      "29/10/2025  11:11               897 2010-10-01-paper-title-number-2.md\n",
      "29/10/2025  11:11               897 2015-10-01-paper-title-number-3.md\n",
      "29/10/2025  11:11               835 2024-02-17-paper-title-number-4.md\n",
      "29/10/2025  12:19             1,322 2024-06-uncanny-valley-realistic-tts.md\n",
      "29/10/2025  12:19             1,748 2024-12-beyond-binary-speech-technology.md\n",
      "29/10/2025  11:11               699 2025-06-08-paper-title-number-5.md\n",
      "29/10/2025  12:19             1,301 2025-08-conveying-gender.md\n",
      "               8 File(s)          8,658 bytes\n",
      "               2 Dir(s)  697,450,176,512 bytes free\n"
     ]
    }
   ],
   "source": [
    "!dir ..\\_publications\\"
   ]
  },
  {
   "cell_type": "code",
   "execution_count": 10,
   "metadata": {
    "collapsed": false,
    "deletable": true,
    "editable": true
   },
   "outputs": [
    {
     "name": "stdout",
     "output_type": "stream",
     "text": [
      "---\n",
      "title: \"Is there an uncanny valley for speech? Investigating listeners' evaluations of realistic TTS voices.\"\n",
      "collection: publications\n",
      "permalink: /publication/2024-06-uncanny-valley-realistic-tts\n",
      "excerpt: 'In this paper, we aim to describe the relationship between synthesised voices&apos; perceived human-likeness and pleasantness and seek evidence of auditory uncanny valley effects (UVE) in listeners&apos; evaluations.'\n",
      "date: 2024-06\n",
      "venue: 'Speech Prosody'\n",
      "paperurl: 'https://www.isca-archive.org/speechprosody_2024/ross24_speechprosody.htm'\n",
      "citation: 'Alice Ross, Martin Corley and Catherine Lai. (2024). &apos;Is there an uncanny valley for speech? Investigating listeners&apos; evaluations of realistic TTS voices.&apos; <i>Speech Prosody 2024</i>, 1115-1119.'\n",
      "---\n",
      "In this paper, we aim to describe the relationship between synthesised voices&apos; perceived human-likeness and pleasantness and seek evidence of auditory uncanny valley effects (UVE) in listeners&apos; evaluations.\n",
      "\n",
      "[Download paper here](https://www.isca-archive.org/speechprosody_2024/ross24_speechprosody.htm)\n",
      "\n",
      "Recommended citation: Alice Ross, Martin Corley and Catherine Lai. (2024). 'Is there an uncanny valley for speech? Investigating listeners' evaluations of realistic TTS voices.' <i>Speech Prosody 2024</i>, 1115-1119.\n"
     ]
    }
   ],
   "source": [
    "!type ..\\_publications\\2024-06-uncanny-valley-realistic-tts.md"
   ]
  },
  {
   "cell_type": "code",
   "execution_count": null,
   "metadata": {
    "collapsed": true,
    "deletable": true,
    "editable": true
   },
   "outputs": [],
   "source": []
  }
 ],
 "metadata": {
  "kernelspec": {
   "display_name": "base",
   "language": "python",
   "name": "python3"
  },
  "language_info": {
   "codemirror_mode": {
    "name": "ipython",
    "version": 3
   },
   "file_extension": ".py",
   "mimetype": "text/x-python",
   "name": "python",
   "nbconvert_exporter": "python",
   "pygments_lexer": "ipython3",
   "version": "3.11.4"
  }
 },
 "nbformat": 4,
 "nbformat_minor": 0
}
