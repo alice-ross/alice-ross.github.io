{
 "cells": [
  {
   "cell_type": "markdown",
   "metadata": {
    "deletable": true,
    "editable": true
   },
   "source": [
    "# Publications markdown generator for academicpages\n",
    "\n",
    "Takes a TSV of publications with metadata and converts them for use with [academicpages.github.io](academicpages.github.io). This is an interactive Jupyter notebook ([see more info here](http://jupyter-notebook-beginner-guide.readthedocs.io/en/latest/what_is_jupyter.html)). The core python code is also in `publications.py`. Run either from the `markdown_generator` folder after replacing `publications.tsv` with one containing your data.\n",
    "\n",
    "TODO: Make this work with BibTex and other databases of citations, rather than Stuart's non-standard TSV format and citation style.\n"
   ]
  },
  {
   "cell_type": "markdown",
   "metadata": {},
   "source": [
    "## Data format\n",
    "\n",
    "The TSV needs to have the following columns: pub_date, title, venue, excerpt, citation, site_url, and paper_url, with a header at the top. \n",
    "\n",
    "- `excerpt` and `paper_url` can be blank, but the others must have values. \n",
    "- `pub_date` must be formatted as YYYY-MM-DD.\n",
    "- `url_slug` will be the descriptive part of the .md file and the permalink URL for the page about the paper. The .md file will be `YYYY-MM-DD-[url_slug].md` and the permalink will be `https://[yourdomain]/publications/YYYY-MM-DD-[url_slug]`\n",
    "\n",
    "This is how the raw file looks (it doesn't look pretty, use a spreadsheet or other program to edit and create)."
   ]
  },
  {
   "cell_type": "code",
   "execution_count": null,
   "metadata": {
    "collapsed": false
   },
   "outputs": [
    {
     "ename": "SyntaxError",
     "evalue": "invalid syntax (3891865740.py, line 2)",
     "output_type": "error",
     "traceback": [
      "  \u001b[36mCell\u001b[39m\u001b[36m \u001b[39m\u001b[32mIn[6]\u001b[39m\u001b[32m, line 2\u001b[39m\n\u001b[31m    \u001b[39m\u001b[31mpip install pandas\u001b[39m\n        ^\n\u001b[31mSyntaxError\u001b[39m\u001b[31m:\u001b[39m invalid syntax\n"
     ]
    }
   ],
   "source": [
    "!type publications.tsv"
   ]
  },
  {
   "cell_type": "markdown",
   "metadata": {},
   "source": [
    "## Import pandas\n",
    "\n",
    "We are using the very handy pandas library for dataframes."
   ]
  },
  {
   "cell_type": "code",
   "execution_count": 7,
   "metadata": {
    "collapsed": true,
    "deletable": true,
    "editable": true
   },
   "outputs": [
    {
     "name": "stdout",
     "output_type": "stream",
     "text": [
      "Collecting pandas\n",
      "  Downloading pandas-2.3.3-cp311-cp311-win_amd64.whl (11.3 MB)\n",
      "                                              0.0/11.3 MB ? eta -:--:--\n",
      "                                              0.0/11.3 MB ? eta -:--:--\n",
      "                                              0.0/11.3 MB ? eta -:--:--\n",
      "                                             0.0/11.3 MB 259.2 kB/s eta 0:00:44\n",
      "                                             0.0/11.3 MB 279.3 kB/s eta 0:00:41\n",
      "                                             0.1/11.3 MB 416.7 kB/s eta 0:00:28\n",
      "                                             0.1/11.3 MB 502.0 kB/s eta 0:00:23\n",
      "                                             0.2/11.3 MB 737.3 kB/s eta 0:00:16\n",
      "                                             0.2/11.3 MB 793.0 kB/s eta 0:00:15\n",
      "                                             0.3/11.3 MB 803.7 kB/s eta 0:00:14\n",
      "     -                                        0.5/11.3 MB 1.1 MB/s eta 0:00:10\n",
      "     -                                        0.6/11.3 MB 1.2 MB/s eta 0:00:09\n",
      "     --                                       0.6/11.3 MB 1.4 MB/s eta 0:00:08\n",
      "     --                                       0.8/11.3 MB 1.5 MB/s eta 0:00:08\n",
      "     ---                                      0.9/11.3 MB 1.5 MB/s eta 0:00:07\n",
      "     ---                                      1.0/11.3 MB 1.7 MB/s eta 0:00:07\n",
      "     ---                                      1.1/11.3 MB 1.7 MB/s eta 0:00:06\n",
      "     ----                                     1.2/11.3 MB 1.8 MB/s eta 0:00:06\n",
      "     ----                                     1.4/11.3 MB 1.9 MB/s eta 0:00:06\n",
      "     -----                                    1.5/11.3 MB 2.0 MB/s eta 0:00:06\n",
      "     -----                                    1.7/11.3 MB 2.1 MB/s eta 0:00:05\n",
      "     ------                                   1.9/11.3 MB 2.1 MB/s eta 0:00:05\n",
      "     -------                                  2.0/11.3 MB 2.2 MB/s eta 0:00:05\n",
      "     -------                                  2.2/11.3 MB 2.3 MB/s eta 0:00:05\n",
      "     --------                                 2.3/11.3 MB 2.4 MB/s eta 0:00:04\n",
      "     --------                                 2.5/11.3 MB 2.4 MB/s eta 0:00:04\n",
      "     ---------                                2.7/11.3 MB 2.5 MB/s eta 0:00:04\n",
      "     ----------                               2.9/11.3 MB 2.5 MB/s eta 0:00:04\n",
      "     ----------                               3.1/11.3 MB 2.6 MB/s eta 0:00:04\n",
      "     -----------                              3.2/11.3 MB 2.6 MB/s eta 0:00:04\n",
      "     ------------                             3.4/11.3 MB 2.6 MB/s eta 0:00:03\n",
      "     ------------                             3.7/11.3 MB 2.7 MB/s eta 0:00:03\n",
      "     -------------                            3.9/11.3 MB 2.8 MB/s eta 0:00:03\n",
      "     --------------                           4.0/11.3 MB 2.8 MB/s eta 0:00:03\n",
      "     --------------                           4.2/11.3 MB 2.8 MB/s eta 0:00:03\n",
      "     ---------------                          4.4/11.3 MB 2.9 MB/s eta 0:00:03\n",
      "     ----------------                         4.7/11.3 MB 3.0 MB/s eta 0:00:03\n",
      "     -----------------                        4.9/11.3 MB 3.0 MB/s eta 0:00:03\n",
      "     ------------------                       5.2/11.3 MB 3.1 MB/s eta 0:00:02\n",
      "     -------------------                      5.4/11.3 MB 3.2 MB/s eta 0:00:02\n",
      "     -------------------                      5.6/11.3 MB 3.2 MB/s eta 0:00:02\n",
      "     --------------------                     5.9/11.3 MB 3.3 MB/s eta 0:00:02\n",
      "     ---------------------                    6.2/11.3 MB 3.4 MB/s eta 0:00:02\n",
      "     -----------------------                  6.6/11.3 MB 3.5 MB/s eta 0:00:02\n",
      "     ------------------------                 6.9/11.3 MB 3.6 MB/s eta 0:00:02\n",
      "     -------------------------                7.2/11.3 MB 3.6 MB/s eta 0:00:02\n",
      "     --------------------------               7.4/11.3 MB 3.7 MB/s eta 0:00:02\n",
      "     ---------------------------              7.8/11.3 MB 3.8 MB/s eta 0:00:01\n",
      "     ----------------------------             8.1/11.3 MB 3.8 MB/s eta 0:00:01\n",
      "     -----------------------------            8.4/11.3 MB 3.9 MB/s eta 0:00:01\n",
      "     ------------------------------           8.7/11.3 MB 3.9 MB/s eta 0:00:01\n",
      "     -------------------------------          8.9/11.3 MB 4.0 MB/s eta 0:00:01\n",
      "     --------------------------------         9.2/11.3 MB 4.0 MB/s eta 0:00:01\n",
      "     ---------------------------------        9.6/11.3 MB 4.1 MB/s eta 0:00:01\n",
      "     ----------------------------------       9.9/11.3 MB 4.1 MB/s eta 0:00:01\n",
      "     ------------------------------------     10.2/11.3 MB 4.2 MB/s eta 0:00:01\n",
      "     ------------------------------------     10.4/11.3 MB 4.6 MB/s eta 0:00:01\n",
      "     --------------------------------------   10.9/11.3 MB 5.0 MB/s eta 0:00:01\n",
      "     ---------------------------------------  11.1/11.3 MB 5.1 MB/s eta 0:00:01\n",
      "     ---------------------------------------  11.3/11.3 MB 5.2 MB/s eta 0:00:01\n",
      "     ---------------------------------------  11.3/11.3 MB 5.2 MB/s eta 0:00:01\n",
      "     ---------------------------------------- 11.3/11.3 MB 5.0 MB/s eta 0:00:00\n",
      "Requirement already satisfied: numpy>=1.23.2 in c:\\users\\alice\\miniconda3\\lib\\site-packages (from pandas) (1.26.3)\n",
      "Requirement already satisfied: python-dateutil>=2.8.2 in c:\\users\\alice\\miniconda3\\lib\\site-packages (from pandas) (2.8.2)\n",
      "Collecting pytz>=2020.1 (from pandas)\n",
      "  Downloading pytz-2025.2-py2.py3-none-any.whl (509 kB)\n",
      "                                              0.0/509.2 kB ? eta -:--:--\n",
      "     -------------------------------       430.1/509.2 kB 13.1 MB/s eta 0:00:01\n",
      "     ------------------------------------- 509.2/509.2 kB 10.6 MB/s eta 0:00:00\n",
      "Collecting tzdata>=2022.7 (from pandas)\n",
      "  Downloading tzdata-2025.2-py2.py3-none-any.whl (347 kB)\n",
      "                                              0.0/347.8 kB ? eta -:--:--\n",
      "     ------------------------------------- 347.8/347.8 kB 10.9 MB/s eta 0:00:00\n",
      "Requirement already satisfied: six>=1.5 in c:\\users\\alice\\miniconda3\\lib\\site-packages (from python-dateutil>=2.8.2->pandas) (1.16.0)\n",
      "Installing collected packages: pytz, tzdata, pandas\n",
      "Successfully installed pandas-2.3.3 pytz-2025.2 tzdata-2025.2\n"
     ]
    }
   ],
   "source": [
    "!pip install pandas\n",
    "import pandas as pd"
   ]
  },
  {
   "cell_type": "markdown",
   "metadata": {},
   "source": [
    "## Import TSV\n",
    "\n",
    "Pandas makes this easy with the read_csv function. We are using a TSV, so we specify the separator as a tab, or `\\t`.\n",
    "\n",
    "I found it important to put this data in a tab-separated values format, because there are a lot of commas in this kind of data and comma-separated values can get messed up. However, you can modify the import statement, as pandas also has read_excel(), read_json(), and others."
   ]
  },
  {
   "cell_type": "code",
   "execution_count": 8,
   "metadata": {
    "collapsed": false,
    "deletable": true,
    "editable": true
   },
   "outputs": [
    {
     "data": {
      "text/html": [
       "<div>\n",
       "<style scoped>\n",
       "    .dataframe tbody tr th:only-of-type {\n",
       "        vertical-align: middle;\n",
       "    }\n",
       "\n",
       "    .dataframe tbody tr th {\n",
       "        vertical-align: top;\n",
       "    }\n",
       "\n",
       "    .dataframe thead th {\n",
       "        text-align: right;\n",
       "    }\n",
       "</style>\n",
       "<table border=\"1\" class=\"dataframe\">\n",
       "  <thead>\n",
       "    <tr style=\"text-align: right;\">\n",
       "      <th></th>\n",
       "      <th>pub_date</th>\n",
       "      <th>title</th>\n",
       "      <th>venue</th>\n",
       "      <th>excerpt</th>\n",
       "      <th>citation</th>\n",
       "      <th>url_slug</th>\n",
       "      <th>paper_url</th>\n",
       "      <th>slides_url</th>\n",
       "    </tr>\n",
       "  </thead>\n",
       "  <tbody>\n",
       "    <tr>\n",
       "      <th>0</th>\n",
       "      <td>2025-08</td>\n",
       "      <td>Conveying gender through speech: insights from...</td>\n",
       "      <td>Interspeech</td>\n",
       "      <td>Focusing on the understudied population of tra...</td>\n",
       "      <td>Alice Ross, Cliodhna Hughes, Eddie L. Ungless ...</td>\n",
       "      <td>conveying-gender</td>\n",
       "      <td>https://www.isca-archive.org/interspeech_2025/...</td>\n",
       "      <td>NaN</td>\n",
       "    </tr>\n",
       "    <tr>\n",
       "      <th>1</th>\n",
       "      <td>2024-12</td>\n",
       "      <td>Beyond the binary: Limitations and possibiliti...</td>\n",
       "      <td>IEEE SLT</td>\n",
       "      <td>This paper presents a review of 107 research p...</td>\n",
       "      <td>Ariadna Sanchez, Alice Ross, and Nina Markl (2...</td>\n",
       "      <td>beyond-binary-speech-technology</td>\n",
       "      <td>https://ieeexplore.ieee.org/abstract/document/...</td>\n",
       "      <td>NaN</td>\n",
       "    </tr>\n",
       "    <tr>\n",
       "      <th>2</th>\n",
       "      <td>2024-06</td>\n",
       "      <td>Is there an uncanny valley for speech? Investi...</td>\n",
       "      <td>Speech Prosody</td>\n",
       "      <td>In this paper, we aim to describe the relation...</td>\n",
       "      <td>Alice Ross, Martin Corley and Catherine Lai. (...</td>\n",
       "      <td>uncanny-valley-realistic-tts</td>\n",
       "      <td>https://www.isca-archive.org/speechprosody_202...</td>\n",
       "      <td>NaN</td>\n",
       "    </tr>\n",
       "  </tbody>\n",
       "</table>\n",
       "</div>"
      ],
      "text/plain": [
       "  pub_date                                              title           venue  \\\n",
       "0  2025-08  Conveying gender through speech: insights from...     Interspeech   \n",
       "1  2024-12  Beyond the binary: Limitations and possibiliti...        IEEE SLT   \n",
       "2  2024-06  Is there an uncanny valley for speech? Investi...  Speech Prosody   \n",
       "\n",
       "                                             excerpt  \\\n",
       "0  Focusing on the understudied population of tra...   \n",
       "1  This paper presents a review of 107 research p...   \n",
       "2  In this paper, we aim to describe the relation...   \n",
       "\n",
       "                                            citation  \\\n",
       "0  Alice Ross, Cliodhna Hughes, Eddie L. Ungless ...   \n",
       "1  Ariadna Sanchez, Alice Ross, and Nina Markl (2...   \n",
       "2  Alice Ross, Martin Corley and Catherine Lai. (...   \n",
       "\n",
       "                          url_slug  \\\n",
       "0                 conveying-gender   \n",
       "1  beyond-binary-speech-technology   \n",
       "2     uncanny-valley-realistic-tts   \n",
       "\n",
       "                                           paper_url  slides_url  \n",
       "0  https://www.isca-archive.org/interspeech_2025/...         NaN  \n",
       "1  https://ieeexplore.ieee.org/abstract/document/...         NaN  \n",
       "2  https://www.isca-archive.org/speechprosody_202...         NaN  "
      ]
     },
     "execution_count": 8,
     "metadata": {},
     "output_type": "execute_result"
    }
   ],
   "source": [
    "publications = pd.read_csv(\"publications.tsv\", sep=\"\\t\", header=0)\n",
    "publications\n"
   ]
  },
  {
   "cell_type": "markdown",
   "metadata": {},
   "source": [
    "## Escape special characters\n",
    "\n",
    "YAML is very picky about how it takes a valid string, so we are replacing single and double quotes (and ampersands) with their HTML encoded equivilents. This makes them look not so readable in raw format, but they are parsed and rendered nicely."
   ]
  },
  {
   "cell_type": "code",
   "execution_count": 9,
   "metadata": {
    "collapsed": true,
    "deletable": true,
    "editable": true
   },
   "outputs": [],
   "source": [
    "html_escape_table = {\n",
    "    \"&\": \"&amp;\",\n",
    "    '\"': \"&quot;\",\n",
    "    \"'\": \"&apos;\"\n",
    "    }\n",
    "\n",
    "def html_escape(text):\n",
    "    \"\"\"Produce entities within text.\"\"\"\n",
    "    return \"\".join(html_escape_table.get(c,c) for c in text)"
   ]
  },
  {
   "cell_type": "markdown",
   "metadata": {},
   "source": [
    "## Creating the markdown files\n",
    "\n",
    "This is where the heavy lifting is done. This loops through all the rows in the TSV dataframe, then starts to concatentate a big string (```md```) that contains the markdown for each type. It does the YAML metadata first, then does the description for the individual page."
   ]
  },
  {
   "cell_type": "code",
   "execution_count": 10,
   "metadata": {
    "collapsed": false,
    "deletable": true,
    "editable": true
   },
   "outputs": [],
   "source": [
    "import os\n",
    "for row, item in publications.iterrows():\n",
    "    \n",
    "    md_filename = str(item.pub_date) + \"-\" + item.url_slug + \".md\"\n",
    "    html_filename = str(item.pub_date) + \"-\" + item.url_slug\n",
    "    year = item.pub_date[:4]\n",
    "    \n",
    "    ## YAML variables\n",
    "    \n",
    "    md = \"---\\ntitle: \\\"\"   + item.title + '\"\\n'\n",
    "    \n",
    "    md += \"\"\"collection: publications\"\"\"\n",
    "    \n",
    "    md += \"\"\"\\npermalink: /publication/\"\"\" + html_filename\n",
    "    \n",
    "    if len(str(item.excerpt)) > 5:\n",
    "        md += \"\\nexcerpt: '\" + html_escape(item.excerpt) + \"'\"\n",
    "    \n",
    "    md += \"\\ndate: \" + str(item.pub_date) \n",
    "    \n",
    "    md += \"\\nvenue: '\" + html_escape(item.venue) + \"'\"\n",
    "    \n",
    "    if len(str(item.slides_url)) > 5:\n",
    "        md += \"\\nslidesurl: '\" + item.slides_url + \"'\"\n",
    "\n",
    "    if len(str(item.paper_url)) > 5:\n",
    "        md += \"\\npaperurl: '\" + item.paper_url + \"'\"\n",
    "    \n",
    "    md += \"\\ncitation: '\" + html_escape(item.citation) + \"'\"\n",
    "    \n",
    "    md += \"\\n---\"\n",
    "    \n",
    "    ## Markdown description for individual page\n",
    "        \n",
    "    if len(str(item.excerpt)) > 5:\n",
    "        md += \"\\n\" + html_escape(item.excerpt) + \"\\n\"\n",
    "\n",
    "    if len(str(item.slides_url)) > 5:\n",
    "        md += \"\\n[Download slides here](\" + item.slides_url + \")\\n\" \n",
    "\n",
    "    if len(str(item.paper_url)) > 5:\n",
    "        md += \"\\n[Download paper here](\" + item.paper_url + \")\\n\" \n",
    "        \n",
    "    md += \"\\nRecommended citation: \" + item.citation\n",
    "    \n",
    "    md_filename = os.path.basename(md_filename)\n",
    "       \n",
    "    with open(\"../_publications/\" + md_filename, 'w') as f:\n",
    "        f.write(md)"
   ]
  },
  {
   "cell_type": "markdown",
   "metadata": {},
   "source": [
    "These files are in the publications directory, one directory below where we're working from."
   ]
  },
  {
   "cell_type": "code",
   "execution_count": 14,
   "metadata": {
    "collapsed": false,
    "deletable": true,
    "editable": true
   },
   "outputs": [
    {
     "name": "stderr",
     "output_type": "stream",
     "text": [
      "Invalid switch - \"_publications\".\n"
     ]
    }
   ],
   "source": [
    "!dir ../_publications/"
   ]
  },
  {
   "cell_type": "code",
   "execution_count": 15,
   "metadata": {
    "collapsed": false,
    "deletable": true,
    "editable": true
   },
   "outputs": [
    {
     "name": "stderr",
     "output_type": "stream",
     "text": [
      "The syntax of the command is incorrect.\n"
     ]
    }
   ],
   "source": [
    "!type ../_publications/2009-10-01-paper-title-number-1.md"
   ]
  },
  {
   "cell_type": "code",
   "execution_count": null,
   "metadata": {
    "collapsed": true,
    "deletable": true,
    "editable": true
   },
   "outputs": [],
   "source": []
  }
 ],
 "metadata": {
  "kernelspec": {
   "display_name": "base",
   "language": "python",
   "name": "python3"
  },
  "language_info": {
   "codemirror_mode": {
    "name": "ipython",
    "version": 3
   },
   "file_extension": ".py",
   "mimetype": "text/x-python",
   "name": "python",
   "nbconvert_exporter": "python",
   "pygments_lexer": "ipython3",
   "version": "3.11.4"
  }
 },
 "nbformat": 4,
 "nbformat_minor": 0
}
