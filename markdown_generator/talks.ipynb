{
 "cells": [
  {
   "cell_type": "markdown",
   "metadata": {
    "deletable": true,
    "editable": true
   },
   "source": [
    "# Talks markdown generator for academicpages\n",
    "\n",
    "Takes a TSV of talks with metadata and converts them for use with [academicpages.github.io](academicpages.github.io). This is an interactive Jupyter notebook ([see more info here](http://jupyter-notebook-beginner-guide.readthedocs.io/en/latest/what_is_jupyter.html)). The core python code is also in `talks.py`. Run either from the `markdown_generator` folder after replacing `talks.tsv` with one containing your data.\n",
    "\n",
    "TODO: Make this work with BibTex and other databases, rather than Stuart's non-standard TSV format and citation style."
   ]
  },
  {
   "cell_type": "code",
   "execution_count": 4,
   "metadata": {
    "collapsed": false,
    "deletable": true,
    "editable": true
   },
   "outputs": [],
   "source": [
    "import pandas as pd\n",
    "import os"
   ]
  },
  {
   "cell_type": "markdown",
   "metadata": {},
   "source": [
    "## Data format\n",
    "\n",
    "The TSV needs to have the following columns: title, type, url_slug, venue, date, location, talk_url, description, with a header at the top. Many of these fields can be blank, but the columns must be in the TSV.\n",
    "\n",
    "- Fields that cannot be blank: `title`, `url_slug`, `date`. All else can be blank. `type` defaults to \"Talk\" \n",
    "- `date` must be formatted as YYYY-MM-DD.\n",
    "- `url_slug` will be the descriptive part of the .md file and the permalink URL for the page about the paper. \n",
    "    - The .md file will be `YYYY-MM-DD-[url_slug].md` and the permalink will be `https://[yourdomain]/talks/YYYY-MM-DD-[url_slug]`\n",
    "    - The combination of `url_slug` and `date` must be unique, as it will be the basis for your filenames\n",
    "\n",
    "This is how the raw file looks (it doesn't look pretty, use a spreadsheet or other program to edit and create)."
   ]
  },
  {
   "cell_type": "code",
   "execution_count": 7,
   "metadata": {
    "collapsed": false
   },
   "outputs": [
    {
     "name": "stdout",
     "output_type": "stream",
     "text": [
      "title\ttype\turl_slug\tvenue\tdate\tlocation\ttalk_url\tdescription\n",
      "\"Gender, style-shifting and authenticity in speech: insights from trans speakers\"\tTalk\ttalk-1\t\"Language Variation and Change Research Group, The University of Edinburgh\"\t2025-10-13\tEdinburgh\t\t\n",
      "Identity and ideology in commercial TTS\tTalk\ttalk-2\t\"Division of Speech, Music and Hearing (TMH) Seminar at KTH Royal Institute of Technology\"\t2025-09-17\tStockholm\t\t\n",
      "Conveying gender through speech: insights from trans men\tConference proceedings talk\ttalk-3\t\"Lavender Languages and Linguistics 31, Manchester Metropolitan University\"\t2025-08-21\tManchester\t\t\n",
      "Conveying gender through speech: insights from trans men\tConference proceedings talk\ttalk-4\tInterspeech Special Session on Queer and Trans Speech Science and Technology\t2025-08-18\tRotterdam\t\tWith Cliodhna Hughes\n",
      "Ideology and discrimination in commercial text-to-speech\tTalk\ttalk-5\t\"Center for Humans and Machines lab, Max-Planck-Institut für Bildungsforschung\"\t2025-08-06\tBerlin\t\t\n",
      "Conveying gender through speech: insights from trans men\tConference proceedings talk\ttalk-6\t\"UK and Ireland Speech, University of York\"\t2025-06-16\tYork\t\t\n",
      "Speaking Out: Three projects related to speech and gender\tTalk\ttalk-7\t\"Centre for Speech Technology Research Talks, University of Edinburgh\"\t2025-05-26\tEdinburgh\t\t\n",
      "Beyond the binary: Limitations and possibilities of gender-related speech technology research\tTalk\ttalk-8\t\"Gender and Social Cognition reading group, University of Edinburgh\"\t2025-04-14\tEdinburgh\t\tWith Ariadna Sanchez\n",
      "\"Ideology, power and bias in the design of 'human-like' synthetic speech\"\tTalk\ttalk-9\t\"ISCA/ITG Workshop on Diversity in Large Speech and Language Models, Humboldt-Universität zu Berlin, Technische Universität Berlin and German Center for Artificial Intelligence (DFKI) Berlin\"\t2025-02-20\tBerlin\t\t\n"
     ]
    }
   ],
   "source": [
    "!type talks.tsv"
   ]
  },
  {
   "cell_type": "markdown",
   "metadata": {},
   "source": [
    "## Import TSV\n",
    "\n",
    "Pandas makes this easy with the read_csv function. We are using a TSV, so we specify the separator as a tab, or `\\t`.\n",
    "\n",
    "I found it important to put this data in a tab-separated values format, because there are a lot of commas in this kind of data and comma-separated values can get messed up. However, you can modify the import statement, as pandas also has read_excel(), read_json(), and others."
   ]
  },
  {
   "cell_type": "code",
   "execution_count": 8,
   "metadata": {
    "collapsed": false,
    "deletable": true,
    "editable": true
   },
   "outputs": [
    {
     "data": {
      "text/html": [
       "<div>\n",
       "<style scoped>\n",
       "    .dataframe tbody tr th:only-of-type {\n",
       "        vertical-align: middle;\n",
       "    }\n",
       "\n",
       "    .dataframe tbody tr th {\n",
       "        vertical-align: top;\n",
       "    }\n",
       "\n",
       "    .dataframe thead th {\n",
       "        text-align: right;\n",
       "    }\n",
       "</style>\n",
       "<table border=\"1\" class=\"dataframe\">\n",
       "  <thead>\n",
       "    <tr style=\"text-align: right;\">\n",
       "      <th></th>\n",
       "      <th>title</th>\n",
       "      <th>type</th>\n",
       "      <th>url_slug</th>\n",
       "      <th>venue</th>\n",
       "      <th>date</th>\n",
       "      <th>location</th>\n",
       "      <th>talk_url</th>\n",
       "      <th>description</th>\n",
       "    </tr>\n",
       "  </thead>\n",
       "  <tbody>\n",
       "    <tr>\n",
       "      <th>0</th>\n",
       "      <td>Gender, style-shifting and authenticity in spe...</td>\n",
       "      <td>Talk</td>\n",
       "      <td>talk-1</td>\n",
       "      <td>Language Variation and Change Research Group, ...</td>\n",
       "      <td>2025-10-13</td>\n",
       "      <td>Edinburgh</td>\n",
       "      <td>NaN</td>\n",
       "      <td>NaN</td>\n",
       "    </tr>\n",
       "    <tr>\n",
       "      <th>1</th>\n",
       "      <td>Identity and ideology in commercial TTS</td>\n",
       "      <td>Talk</td>\n",
       "      <td>talk-2</td>\n",
       "      <td>Division of Speech, Music and Hearing (TMH) Se...</td>\n",
       "      <td>2025-09-17</td>\n",
       "      <td>Stockholm</td>\n",
       "      <td>NaN</td>\n",
       "      <td>NaN</td>\n",
       "    </tr>\n",
       "    <tr>\n",
       "      <th>2</th>\n",
       "      <td>Conveying gender through speech: insights from...</td>\n",
       "      <td>Conference proceedings talk</td>\n",
       "      <td>talk-3</td>\n",
       "      <td>Lavender Languages and Linguistics 31, Manches...</td>\n",
       "      <td>2025-08-21</td>\n",
       "      <td>Manchester</td>\n",
       "      <td>NaN</td>\n",
       "      <td>NaN</td>\n",
       "    </tr>\n",
       "    <tr>\n",
       "      <th>3</th>\n",
       "      <td>Conveying gender through speech: insights from...</td>\n",
       "      <td>Conference proceedings talk</td>\n",
       "      <td>talk-4</td>\n",
       "      <td>Interspeech Special Session on Queer and Trans...</td>\n",
       "      <td>2025-08-18</td>\n",
       "      <td>Rotterdam</td>\n",
       "      <td>NaN</td>\n",
       "      <td>With Cliodhna Hughes</td>\n",
       "    </tr>\n",
       "    <tr>\n",
       "      <th>4</th>\n",
       "      <td>Ideology and discrimination in commercial text...</td>\n",
       "      <td>Talk</td>\n",
       "      <td>talk-5</td>\n",
       "      <td>Center for Humans and Machines lab, Max-Planck...</td>\n",
       "      <td>2025-08-06</td>\n",
       "      <td>Berlin</td>\n",
       "      <td>NaN</td>\n",
       "      <td>NaN</td>\n",
       "    </tr>\n",
       "    <tr>\n",
       "      <th>5</th>\n",
       "      <td>Conveying gender through speech: insights from...</td>\n",
       "      <td>Conference proceedings talk</td>\n",
       "      <td>talk-6</td>\n",
       "      <td>UK and Ireland Speech, University of York</td>\n",
       "      <td>2025-06-16</td>\n",
       "      <td>York</td>\n",
       "      <td>NaN</td>\n",
       "      <td>NaN</td>\n",
       "    </tr>\n",
       "    <tr>\n",
       "      <th>6</th>\n",
       "      <td>Speaking Out: Three projects related to speech...</td>\n",
       "      <td>Talk</td>\n",
       "      <td>talk-7</td>\n",
       "      <td>Centre for Speech Technology Research Talks, U...</td>\n",
       "      <td>2025-05-26</td>\n",
       "      <td>Edinburgh</td>\n",
       "      <td>NaN</td>\n",
       "      <td>NaN</td>\n",
       "    </tr>\n",
       "    <tr>\n",
       "      <th>7</th>\n",
       "      <td>Beyond the binary: Limitations and possibiliti...</td>\n",
       "      <td>Talk</td>\n",
       "      <td>talk-8</td>\n",
       "      <td>Gender and Social Cognition reading group, Uni...</td>\n",
       "      <td>2025-04-14</td>\n",
       "      <td>Edinburgh</td>\n",
       "      <td>NaN</td>\n",
       "      <td>With Ariadna Sanchez</td>\n",
       "    </tr>\n",
       "    <tr>\n",
       "      <th>8</th>\n",
       "      <td>Ideology, power and bias in the design of 'hum...</td>\n",
       "      <td>Talk</td>\n",
       "      <td>talk-9</td>\n",
       "      <td>ISCA/ITG Workshop on Diversity in Large Speech...</td>\n",
       "      <td>2025-02-20</td>\n",
       "      <td>Berlin</td>\n",
       "      <td>NaN</td>\n",
       "      <td>NaN</td>\n",
       "    </tr>\n",
       "  </tbody>\n",
       "</table>\n",
       "</div>"
      ],
      "text/plain": [
       "                                               title  \\\n",
       "0  Gender, style-shifting and authenticity in spe...   \n",
       "1            Identity and ideology in commercial TTS   \n",
       "2  Conveying gender through speech: insights from...   \n",
       "3  Conveying gender through speech: insights from...   \n",
       "4  Ideology and discrimination in commercial text...   \n",
       "5  Conveying gender through speech: insights from...   \n",
       "6  Speaking Out: Three projects related to speech...   \n",
       "7  Beyond the binary: Limitations and possibiliti...   \n",
       "8  Ideology, power and bias in the design of 'hum...   \n",
       "\n",
       "                          type url_slug  \\\n",
       "0                         Talk   talk-1   \n",
       "1                         Talk   talk-2   \n",
       "2  Conference proceedings talk   talk-3   \n",
       "3  Conference proceedings talk   talk-4   \n",
       "4                         Talk   talk-5   \n",
       "5  Conference proceedings talk   talk-6   \n",
       "6                         Talk   talk-7   \n",
       "7                         Talk   talk-8   \n",
       "8                         Talk   talk-9   \n",
       "\n",
       "                                               venue        date    location  \\\n",
       "0  Language Variation and Change Research Group, ...  2025-10-13   Edinburgh   \n",
       "1  Division of Speech, Music and Hearing (TMH) Se...  2025-09-17   Stockholm   \n",
       "2  Lavender Languages and Linguistics 31, Manches...  2025-08-21  Manchester   \n",
       "3  Interspeech Special Session on Queer and Trans...  2025-08-18   Rotterdam   \n",
       "4  Center for Humans and Machines lab, Max-Planck...  2025-08-06      Berlin   \n",
       "5          UK and Ireland Speech, University of York  2025-06-16        York   \n",
       "6  Centre for Speech Technology Research Talks, U...  2025-05-26   Edinburgh   \n",
       "7  Gender and Social Cognition reading group, Uni...  2025-04-14   Edinburgh   \n",
       "8  ISCA/ITG Workshop on Diversity in Large Speech...  2025-02-20      Berlin   \n",
       "\n",
       "   talk_url           description  \n",
       "0       NaN                   NaN  \n",
       "1       NaN                   NaN  \n",
       "2       NaN                   NaN  \n",
       "3       NaN  With Cliodhna Hughes  \n",
       "4       NaN                   NaN  \n",
       "5       NaN                   NaN  \n",
       "6       NaN                   NaN  \n",
       "7       NaN  With Ariadna Sanchez  \n",
       "8       NaN                   NaN  "
      ]
     },
     "execution_count": 8,
     "metadata": {},
     "output_type": "execute_result"
    }
   ],
   "source": [
    "talks = pd.read_csv(\"talks.tsv\", sep=\"\\t\", header=0)\n",
    "talks"
   ]
  },
  {
   "cell_type": "markdown",
   "metadata": {},
   "source": [
    "## Escape special characters\n",
    "\n",
    "YAML is very picky about how it takes a valid string, so we are replacing single and double quotes (and ampersands) with their HTML encoded equivilents. This makes them look not so readable in raw format, but they are parsed and rendered nicely."
   ]
  },
  {
   "cell_type": "code",
   "execution_count": 9,
   "metadata": {
    "collapsed": false,
    "deletable": true,
    "editable": true
   },
   "outputs": [],
   "source": [
    "html_escape_table = {\n",
    "    \"&\": \"&amp;\",\n",
    "    '\"': \"&quot;\",\n",
    "    \"'\": \"&apos;\"\n",
    "    }\n",
    "\n",
    "def html_escape(text):\n",
    "    if type(text) is str:\n",
    "        return \"\".join(html_escape_table.get(c,c) for c in text)\n",
    "    else:\n",
    "        return \"False\""
   ]
  },
  {
   "cell_type": "markdown",
   "metadata": {},
   "source": [
    "## Creating the markdown files\n",
    "\n",
    "This is where the heavy lifting is done. This loops through all the rows in the TSV dataframe, then starts to concatentate a big string (```md```) that contains the markdown for each type. It does the YAML metadata first, then does the description for the individual page."
   ]
  },
  {
   "cell_type": "code",
   "execution_count": 10,
   "metadata": {
    "collapsed": false,
    "deletable": true,
    "editable": true
   },
   "outputs": [],
   "source": [
    "loc_dict = {}\n",
    "\n",
    "for row, item in talks.iterrows():\n",
    "    \n",
    "    md_filename = str(item.date) + \"-\" + item.url_slug + \".md\"\n",
    "    html_filename = str(item.date) + \"-\" + item.url_slug \n",
    "    year = item.date[:4]\n",
    "    \n",
    "    md = \"---\\ntitle: \\\"\"   + item.title + '\"\\n'\n",
    "    md += \"collection: talks\" + \"\\n\"\n",
    "    \n",
    "    if len(str(item.type)) > 3:\n",
    "        md += 'type: \"' + item.type + '\"\\n'\n",
    "    else:\n",
    "        md += 'type: \"Talk\"\\n'\n",
    "    \n",
    "    md += \"permalink: /talks/\" + html_filename + \"\\n\"\n",
    "    \n",
    "    if len(str(item.venue)) > 3:\n",
    "        md += 'venue: \"' + item.venue + '\"\\n'\n",
    "        \n",
    "    if len(str(item.location)) > 3:\n",
    "        md += \"date: \" + str(item.date) + \"\\n\"\n",
    "    \n",
    "    if len(str(item.location)) > 3:\n",
    "        md += 'location: \"' + str(item.location) + '\"\\n'\n",
    "           \n",
    "    md += \"---\\n\"\n",
    "    \n",
    "    \n",
    "    if len(str(item.talk_url)) > 3:\n",
    "        md += \"\\n[More information here](\" + item.talk_url + \")\\n\" \n",
    "        \n",
    "    \n",
    "    if len(str(item.description)) > 3:\n",
    "        md += \"\\n\" + html_escape(item.description) + \"\\n\"\n",
    "        \n",
    "        \n",
    "    md_filename = os.path.basename(md_filename)\n",
    "    #print(md)\n",
    "    \n",
    "    with open(\"../_talks/\" + md_filename, 'w') as f:\n",
    "        f.write(md)"
   ]
  },
  {
   "cell_type": "markdown",
   "metadata": {},
   "source": [
    "These files are in the talks directory, one directory below where we're working from."
   ]
  },
  {
   "cell_type": "code",
   "execution_count": 11,
   "metadata": {
    "collapsed": false,
    "deletable": true,
    "editable": true
   },
   "outputs": [
    {
     "name": "stdout",
     "output_type": "stream",
     "text": [
      " Volume in drive C is OS\n",
      " Volume Serial Number is 8A52-B2D5\n",
      "\n",
      " Directory of c:\\Users\\alice\\Documents\\GitHub\\alice-ross.github.io\\_talks\n",
      "\n",
      "29/10/2025  12:49    <DIR>          .\n",
      "29/10/2025  12:39    <DIR>          ..\n",
      "29/10/2025  11:11               363 2012-03-01-talk-1.md\n",
      "29/10/2025  11:11               460 2013-03-01-tutorial-1.md\n",
      "29/10/2025  11:11               385 2014-02-01-talk-2.md\n",
      "29/10/2025  11:11               420 2014-03-01-talk-3.md\n",
      "29/10/2025  12:49               402 2025-02-20-talk-9.md\n",
      "29/10/2025  12:49               326 2025-04-14-talk-8.md\n",
      "29/10/2025  12:49               268 2025-05-26-talk-7.md\n",
      "29/10/2025  12:49               258 2025-06-16-talk-6.md\n",
      "29/10/2025  12:49               274 2025-08-06-talk-5.md\n",
      "29/10/2025  12:49               322 2025-08-18-talk-4.md\n",
      "29/10/2025  12:49               296 2025-08-21-talk-3.md\n",
      "29/10/2025  12:49               270 2025-09-17-talk-2.md\n",
      "29/10/2025  12:49               295 2025-10-13-talk-1.md\n",
      "29/10/2025  12:28               295 2025-talk-1.md\n",
      "29/10/2025  12:28               270 2025-talk-2.md\n",
      "29/10/2025  12:28               296 2025-talk-3.md\n",
      "29/10/2025  12:28               322 2025-talk-4.md\n",
      "29/10/2025  12:28               274 2025-talk-5.md\n",
      "29/10/2025  12:28               258 2025-talk-6.md\n",
      "29/10/2025  12:28               268 2025-talk-7.md\n",
      "29/10/2025  12:28               326 2025-talk-8.md\n",
      "29/10/2025  12:28               402 2025-talk-9.md\n",
      "              22 File(s)          7,050 bytes\n",
      "               2 Dir(s)  697,416,298,496 bytes free\n"
     ]
    }
   ],
   "source": [
    "!dir ..\\_talks"
   ]
  },
  {
   "cell_type": "code",
   "execution_count": 12,
   "metadata": {
    "collapsed": false,
    "deletable": true,
    "editable": true
   },
   "outputs": [
    {
     "name": "stdout",
     "output_type": "stream",
     "text": [
      "---\n",
      "title: \"Gender, style-shifting and authenticity in speech: insights from trans speakers\"\n",
      "collection: talks\n",
      "type: \"Talk\"\n",
      "permalink: /talks/13/10/2025-talk-1\n",
      "venue: \"Language Variation and Change Research Group, The University of Edinburgh\"\n",
      "date: 13/10/2025\n",
      "location: \"Edinburgh\"\n",
      "---\n"
     ]
    }
   ],
   "source": [
    "!type ..\\_talks\\2025-talk-1.md"
   ]
  }
 ],
 "metadata": {
  "kernelspec": {
   "display_name": "base",
   "language": "python",
   "name": "python3"
  },
  "language_info": {
   "codemirror_mode": {
    "name": "ipython",
    "version": 3
   },
   "file_extension": ".py",
   "mimetype": "text/x-python",
   "name": "python",
   "nbconvert_exporter": "python",
   "pygments_lexer": "ipython3",
   "version": "3.11.4"
  }
 },
 "nbformat": 4,
 "nbformat_minor": 0
}
